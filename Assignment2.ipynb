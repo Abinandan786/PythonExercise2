{
 "cells": [
  {
   "cell_type": "markdown",
   "metadata": {},
   "source": [
    "# Assignment2"
   ]
  },
  {
   "cell_type": "markdown",
   "metadata": {},
   "source": [
    "# Task 1"
   ]
  },
  {
   "cell_type": "markdown",
   "metadata": {},
   "source": [
    "Task1.1 Write a Python Program to implement your own myreduce() function which works exactly like Python's built-in function reduce()"
   ]
  },
  {
   "cell_type": "code",
   "execution_count": 1,
   "metadata": {},
   "outputs": [
    {
     "name": "stdout",
     "output_type": "stream",
     "text": [
      "185\n"
     ]
    }
   ],
   "source": [
    "#my reduce funcion to add elements\n",
    "def add(a,b):\n",
    "    return a+b\n",
    "\n",
    "def my_reduce(add,my_list):\n",
    "    res = my_list[0]\n",
    "    for num in my_list[1:]:\n",
    "        res =  add(res, num)\n",
    "    return res\n",
    "\n",
    "\n",
    "my_list = [41,12,35,34,57,6]\n",
    "res = my_reduce(add, my_list )\n",
    "print(res)"
   ]
  },
  {
   "cell_type": "markdown",
   "metadata": {},
   "source": [
    "Task 1.2 Write a Python program to implement your own myfilter() function which works exactly like Python's built-in function filter()"
   ]
  },
  {
   "cell_type": "code",
   "execution_count": 2,
   "metadata": {},
   "outputs": [
    {
     "name": "stdout",
     "output_type": "stream",
     "text": [
      "['a', 'e', 'i', 'o', 'i', 'e', 'o']\n"
     ]
    }
   ],
   "source": [
    "#My Filter function to filter out vowels from alphabets.\n",
    "\n",
    "alphabets = ['a', 'b', 'd', 'e', 'i', 'j', 'o','W', 'r', 'i', 't', 'e','P', 'y', 't', 'h', 'o', 'n']\n",
    "\n",
    "# function that filters vowels\n",
    "def check_Vowels(item):\n",
    "    vowels = ['a','e','i','o','u']\n",
    "    if(item in vowels):\n",
    "        return True\n",
    "    else:\n",
    "        return False\n",
    "filterVowels = []\n",
    "def my_filter(check_Vowels, alphabets):\n",
    "    for item in alphabets:\n",
    "        if check_Vowels(item):\n",
    "            filterVowels.append(item)\n",
    "    return filterVowels\n",
    "    \n",
    "consonent = my_filter(check_Vowels,alphabets)\n",
    "\n",
    "print(consonent)   "
   ]
  },
  {
   "cell_type": "markdown",
   "metadata": {},
   "source": [
    "Task 1.2\n",
    "\n",
    "Implement List comprehensions to produce the following lists. \n",
    " \n",
    "Write List comprehensions to produce the following Lists \n",
    " \n",
    "['A', 'C', 'A', 'D', 'G', 'I', ’L’, ‘ D’] \n",
    " \n",
    "['x', 'xx', 'xxx', 'xxxx', 'y', 'yy', 'yyy', 'yyyy', 'z', 'zz', 'zzz', 'zzzz'] \n",
    " \n",
    "['x', 'y', 'z', 'xx', 'yy', 'zz', 'xx', 'yy', 'zz', 'xxxx', 'yyyy', 'zzzz'] \n",
    " \n",
    "[[2], [3], [4], [3], [4], [5], [4], [5], [6]] \n",
    " \n",
    "[[2, 3, 4, 5], [3, 4, 5, 6], [4, 5, 6, 7], [5, 6, 7, 8]] \n",
    " \n",
    "[(1, 1), (2, 1), (3, 1), (1, 2), (2, 2), (3, 2), (1, 3), (2, 3), (3, 3)]"
   ]
  },
  {
   "cell_type": "code",
   "execution_count": 3,
   "metadata": {},
   "outputs": [
    {
     "name": "stdout",
     "output_type": "stream",
     "text": [
      "['A', 'C', 'A', 'D', 'G', 'I', 'L', 'D']\n"
     ]
    }
   ],
   "source": [
    "st = \"ACADGILD\"\n",
    "lst = [x for x in st]\n",
    "print(lst)"
   ]
  },
  {
   "cell_type": "code",
   "execution_count": 4,
   "metadata": {},
   "outputs": [
    {
     "name": "stdout",
     "output_type": "stream",
     "text": [
      "['x', 'xx', 'xxx', 'xxxx', 'y', 'yy', 'yyy', 'yyyy', 'z', 'zz', 'zzz', 'zzzz']\n"
     ]
    }
   ],
   "source": [
    "st = 'xyz'\n",
    "lst = [x*i for x in st for i in range(1,5) ]\n",
    "print(lst)"
   ]
  },
  {
   "cell_type": "code",
   "execution_count": 5,
   "metadata": {},
   "outputs": [
    {
     "name": "stdout",
     "output_type": "stream",
     "text": [
      "['x', 'y', 'z', 'xx', 'yy', 'zz', 'xxx', 'yyy', 'zzz', 'xxxx', 'yyyy', 'zzzz']\n"
     ]
    }
   ],
   "source": [
    "st = 'xyz'\n",
    "lst = [x*i  for i in range(1,5) for x in st ]\n",
    "print(lst)"
   ]
  },
  {
   "cell_type": "code",
   "execution_count": 6,
   "metadata": {},
   "outputs": [
    {
     "name": "stdout",
     "output_type": "stream",
     "text": [
      "[[2], [3], [4], [3], [4], [5], [4], [5], [6]]\n"
     ]
    }
   ],
   "source": [
    "InpulLst = [2,3,4] \n",
    "lst = [[x + i] for x in InpulLst for i in range(3)]\n",
    "print(lst)"
   ]
  },
  {
   "cell_type": "code",
   "execution_count": 7,
   "metadata": {},
   "outputs": [
    {
     "name": "stdout",
     "output_type": "stream",
     "text": [
      "[[2, 3, 4, 5], [3, 4, 5, 6], [4, 5, 6, 7], [5, 6, 7, 8]]\n"
     ]
    }
   ],
   "source": [
    "InpulLst = [2, 3, 4, 5]\n",
    "lst = [[x + i for x in InpulLst] for i in range(4)]\n",
    "print(lst)"
   ]
  },
  {
   "cell_type": "code",
   "execution_count": 8,
   "metadata": {},
   "outputs": [
    {
     "name": "stdout",
     "output_type": "stream",
     "text": [
      "[(1, 1), (2, 1), (3, 1), (1, 2), (2, 2), (3, 2), (1, 3), (2, 3), (3, 3)]\n"
     ]
    }
   ],
   "source": [
    "tup = [(y,x) for x in range(1,4) for y in range(1,4)]\n",
    "print(tup)"
   ]
  },
  {
   "cell_type": "markdown",
   "metadata": {},
   "source": [
    "Task 1.3 \n",
    "\n",
    "Implement a function longestWord() that takes a list of words and returns the longest one."
   ]
  },
  {
   "cell_type": "code",
   "execution_count": 9,
   "metadata": {},
   "outputs": [
    {
     "name": "stdout",
     "output_type": "stream",
     "text": [
      "Enter a sentance\n",
      "Implement a function longestWord that takes a list of words and returns the longest one\n",
      "longestWord\n"
     ]
    }
   ],
   "source": [
    "input_sentence = input(\"Enter a sentance\\n\")\n",
    "\n",
    "def longestWord():\n",
    "    max_count = 0\n",
    "    Longword = ''\n",
    "    for word in input_sentence.split():\n",
    "        count = len(word)\n",
    "        if(count > max_count ):\n",
    "            max_count = count\n",
    "            Longword = word\n",
    "    return Longword\n",
    "\n",
    "Longword = longestWord()\n",
    "print(Longword)\n",
    "    \n"
   ]
  },
  {
   "cell_type": "markdown",
   "metadata": {},
   "source": [
    "# Task 2"
   ]
  },
  {
   "cell_type": "markdown",
   "metadata": {},
   "source": [
    "Task 1.1\n",
    "Write a Python Program(with class concepts) to find the area of the triangle using the below formula. \n",
    " \n",
    "area = (s*(s-a)*(s-b)*(s-c)) ** 0.5 \n",
    " \n",
    "Function to take the length of the sides of triangle from user should be defined in the parent class and function to calculate the area should be defined in subclass. "
   ]
  },
  {
   "cell_type": "code",
   "execution_count": 17,
   "metadata": {},
   "outputs": [
    {
     "name": "stdout",
     "output_type": "stream",
     "text": [
      "14.696938456699069\n"
     ]
    }
   ],
   "source": [
    "class Triangle():\n",
    "\n",
    "    def __init__(self, lengths_of_sides):\n",
    "        self.lengths_of_sides = lengths_of_sides  \n",
    "\n",
    "    def get_area(self):\n",
    "        a, b, c = self.lengths_of_sides\n",
    "        s = (a + b + c) / 2\n",
    "        return (s*(s-a)*(s-b)*(s-c)) ** 0.5\n",
    "    \n",
    "tri = Triangle([5,6 ,7])\n",
    "print(tri.get_area())"
   ]
  },
  {
   "cell_type": "markdown",
   "metadata": {},
   "source": [
    "Task 1.2 Write a function filter_long_words() that takes a list of words and an integer n and returns the list of words that are longer than n. "
   ]
  },
  {
   "cell_type": "code",
   "execution_count": 11,
   "metadata": {},
   "outputs": [
    {
     "name": "stdout",
     "output_type": "stream",
     "text": [
      "Enter the minimum length of word\n",
      "7\n",
      "['Implement', 'function', 'longestWord', 'function', 'filter_long_words']\n"
     ]
    }
   ],
   "source": [
    "ipList = ['Implement', 'a', 'function', 'longestWord', 'that', 'takes', 'a', 'list', 'of', 'words', 'and', 'returns', 'the', 'longest', 'one', 'Write', 'a', 'function', 'filter_long_words', 'that', 'takes', 'a', 'list', 'of', 'words', 'and', 'an', 'integer', 'n', 'and', 'returns', 'the', 'list', 'of', 'words', 'that', 'are', 'longer', 'than', 'n']\n",
    "\n",
    "def filter_long_words(wordsList, n):\n",
    "    opList = []\n",
    "    for word in wordsList:\n",
    "        if (len(word) > n):\n",
    "            opList.append(word)\n",
    "    return opList\n",
    "n = int(input(\"Enter the minimum length of word\\n\"))   \n",
    "longWordList = filter_long_words(ipList, 7)\n",
    "print(longWordList)"
   ]
  },
  {
   "cell_type": "markdown",
   "metadata": {},
   "source": [
    "Task 2.1 Write a Python program using function concept that maps  list of words into a list of integers representing the lengths of the corresponding words​. \n",
    " Hint: ​If a list [ ab,cde,erty] is passed on to the python function output should come as [2,3,4] \n",
    " Here 2,3 and 4 are the lengths of the words in the list. "
   ]
  },
  {
   "cell_type": "code",
   "execution_count": 12,
   "metadata": {},
   "outputs": [
    {
     "name": "stdout",
     "output_type": "stream",
     "text": [
      "['Implement', 'function', 'longestWord', 'function', 'filter_long_words']\n",
      "[9, 8, 11, 8, 17]\n"
     ]
    }
   ],
   "source": [
    "inputLst = ['Implement', 'function', 'longestWord', 'function', 'filter_long_words']\n",
    "def list_word_count(lst):\n",
    "    lst_int_count = []\n",
    "    for word in lst:\n",
    "        lst_int_count.append(len(word))\n",
    "    return lst_int_count\n",
    "\n",
    "lst_int_count = list_word_count(inputLst)\n",
    "\n",
    "print(inputLst)\n",
    "print(lst_int_count)\n",
    "\n",
    "        \n",
    "    "
   ]
  },
  {
   "cell_type": "markdown",
   "metadata": {},
   "source": [
    "Task 2.2 Write a Python function which takes a character (i.e. a string of length 1) and returns True if it is a vowel, False otherwise."
   ]
  },
  {
   "cell_type": "code",
   "execution_count": 13,
   "metadata": {},
   "outputs": [
    {
     "name": "stdout",
     "output_type": "stream",
     "text": [
      "Enter character\n",
      "u\n",
      "True\n"
     ]
    }
   ],
   "source": [
    "vowels = ['a','e','i','o','u']\n",
    "def check_vowels(ch):\n",
    "    if ch in vowels:\n",
    "        return True\n",
    "    else:\n",
    "        return False\n",
    "    \n",
    "ch = input(\"Enter character\\n\")\n",
    "\n",
    "if len(ch) == 1:\n",
    "    print(check_vowels(ch))\n",
    "else:\n",
    "    print(\"Enter only one character\")\n"
   ]
  }
 ],
 "metadata": {
  "kernelspec": {
   "display_name": "Python 3",
   "language": "python",
   "name": "python3"
  },
  "language_info": {
   "codemirror_mode": {
    "name": "ipython",
    "version": 3
   },
   "file_extension": ".py",
   "mimetype": "text/x-python",
   "name": "python",
   "nbconvert_exporter": "python",
   "pygments_lexer": "ipython3",
   "version": "3.7.3"
  }
 },
 "nbformat": 4,
 "nbformat_minor": 2
}
